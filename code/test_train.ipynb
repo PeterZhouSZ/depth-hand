{
 "cells": [
  {
   "cell_type": "markdown",
   "metadata": {},
   "source": [
    "%load_ext autoreload\n",
    "%autoreload 2"
   ]
  },
  {
   "cell_type": "code",
   "execution_count": 7,
   "metadata": {
    "collapsed": true
   },
   "outputs": [],
   "source": [
    "# load libraries and set plot parameters\n",
    "import numpy as np\n",
    "import prettytable as pt\n",
    "\n",
    "import matplotlib.pyplot as plt\n",
    "%matplotlib inline\n",
    "\n",
    "from IPython.display import set_matplotlib_formats\n",
    "set_matplotlib_formats('pdf', 'png')\n",
    "plt.rcParams['savefig.dpi'] = 300\n",
    "\n",
    "plt.rcParams['figure.autolayout'] = False\n",
    "plt.rcParams['figure.figsize'] = 10, 6\n",
    "plt.rcParams['axes.labelsize'] = 18\n",
    "plt.rcParams['axes.titlesize'] = 20\n",
    "plt.rcParams['font.size'] = 16\n",
    "plt.rcParams['lines.linewidth'] = 2.0\n",
    "plt.rcParams['lines.markersize'] = 8\n",
    "plt.rcParams['legend.fontsize'] = 14\n",
    "\n",
    "# plt.rcParams['text.usetex'] = True\n",
    "# plt.rcParams['font.family'] = \"sans-serif\"\n",
    "# plt.rcParams['font.serif'] = \"cm\"\n",
    "# plt.rcParams['text.latex.preamble'] = \"\\usepackage{subdepth}, \\usepackage{type1cm}\"\n",
    "\n",
    "# data = np.array([[1,2,3],[2,3,4]])\n",
    "# x = pt.PrettyTable([\"City name\", \"Area\", \"Population\", \"Annual Rainfall\"])\n",
    "# x.align[\"City name\"] = \"l\" # Left align city names\n",
    "# x.add_row([\"Adelaide\",1295, 1158259, 600.5])\n",
    "# x.add_row([\"Brisbane\",5905, 1857594, 1146.4])\n",
    "# x.add_row([\"Darwin\", 112, 120900, 1714.7])\n",
    "# x.add_row([\"Hobart\", 1357, 205556, 619.5])\n",
    "# x.add_row([\"Sydney\", 2058, 4336374, 1214.8])\n",
    "# x.add_row([\"Melbourne\", 1566, 3806092, 646.9])\n",
    "# x.add_row([\"Perth\", 5386, 1554769, 869.4])\n",
    "# print(x)"
   ]
  },
  {
   "cell_type": "markdown",
   "metadata": {},
   "source": [
    "\\usepackage{dsfont}\n",
    "\n",
    "###### $\\tau$-ratio\n",
    "The ratio of frames that have all of their respectively detected joints within a certain error bound $\\tau$ to the groundtruth annotation:\n",
    "$$\n",
    "\\tau\\mbox{-}ratio = \\frac{\\sum_i \\mathds{1}( max_j(\\epsilon_{ij}) \\le \\tau )}{N},\n",
    "$$\n",
    "where $\\epsilon_{ij} = \\left\\lVert p_{ij} - g_{ij} \\right\\rVert$ is the error of $j$-th joint in the $i$-th frame, and $\\mathds{1}$ is the indicator function.\n",
    "\n",
    "###### Per-joint mean error\n",
    "The mean error for the $j$-th joint between prediction and groundtruth over all test frames:\n",
    "$$\n",
    "\\epsilon^{mean}_j = \\frac{\\sum_i \\epsilon_{ij}}{N}.\n",
    "$$\n",
    "\n",
    "###### Mean error distribution\n",
    "The mean error of all joints within each single frame is collected into a histogram to evaluate the overall performance:\n",
    "$$\n",
    "\\epsilon^{mean}_i = \\frac{\\sum_j \\epsilon_{ij}}{J}.\n",
    "$$"
   ]
  },
  {
   "cell_type": "code",
   "execution_count": 8,
   "metadata": {},
   "outputs": [
    {
     "name": "stderr",
     "output_type": "stream",
     "text": [
      "usage: ipykernel_launcher.py [-h] [--data_root DATA_ROOT]\n",
      "                             [--data_name DATA_NAME] [--out_dir OUT_DIR]\n",
      "                             [--log_file LOG_FILE] [--model_ckpt MODEL_CKPT]\n",
      "                             [--gpu_id GPU_ID] [--model_name MODEL_NAME]\n",
      "                             [--img_size IMG_SIZE] [--pose_dim POSE_DIM]\n",
      "                             [--max_epoch MAX_EPOCH] [--batch_size BATCH_SIZE]\n",
      "                             [--optimizer OPTIMIZER]\n",
      "                             [--bn_momentum BN_MOMENTUM]\n",
      "                             [--learning_rate LEARNING_RATE]\n",
      "                             [--decay_step DECAY_STEP]\n",
      "                             [--decay_rate DECAY_RATE]\n",
      "ipykernel_launcher.py: error: unrecognized arguments: -f /run/user/1000/jupyter/kernel-a02b747b-a548-4464-9238-eaf4f82bf7e9.json\n"
     ]
    },
    {
     "ename": "SystemExit",
     "evalue": "2",
     "output_type": "error",
     "traceback": [
      "An exception has occurred, use %tb to see the full traceback.\n",
      "\u001b[0;31mSystemExit\u001b[0m\u001b[0;31m:\u001b[0m 2\n"
     ]
    }
   ],
   "source": [
    "from args_holder import args_holder\n",
    "\n",
    "\n",
    "argsholder = args_holder()\n",
    "argsholder.parse_args()\n",
    "ARGS = argsholder.args\n"
   ]
  },
  {
   "cell_type": "code",
   "execution_count": null,
   "metadata": {
    "collapsed": true
   },
   "outputs": [],
   "source": [
    "hands17.draw.draw_pred_random(\n",
    "    hands17er,\n",
    "    hands17.training_images,\n",
    "    hands17.training_annot_test,\n",
    "    hands17.training_annot_predict\n",
    ")"
   ]
  },
  {
   "cell_type": "code",
   "execution_count": null,
   "metadata": {
    "collapsed": true
   },
   "outputs": [],
   "source": [
    "import matplotlib.pyplot as mpplot\n",
    "\n",
    "errors = hands17.eval.compare_error(\n",
    "    hands17er,\n",
    "    hands17.training_annot_test,\n",
    "    hands17.training_annot_predict\n",
    ")\n",
    "mpplot.subplot()\n",
    "hands17.eval.draw_error_percentage_curve(hands17er, errors, mpplot.gca())\n",
    "mpplot.show()\n",
    "mpplot.subplot()\n",
    "hands17.eval.draw_error_per_joint(hands17er, errors, mpplot.gca())\n",
    "mpplot.subplot()\n",
    "mpplot.show()\n",
    "hands17.eval.draw_mean_error_distribution(hands17er, errors, mpplot.gca())\n",
    "mpplot.show()"
   ]
  },
  {
   "cell_type": "code",
   "execution_count": null,
   "metadata": {
    "collapsed": true
   },
   "outputs": [],
   "source": [
    "hands17.draw.draw_bbox_random()"
   ]
  },
  {
   "cell_type": "code",
   "execution_count": null,
   "metadata": {
    "collapsed": true
   },
   "outputs": [],
   "source": [
    "hands17.draw.draw_pose_random(\n",
    "    hands17.training_images,\n",
    "    hands17.training_annot_cleaned\n",
    ")\n",
    "hands17.draw.draw_pose_random(\n",
    "    hands17.training_cropped,\n",
    "    hands17.training_annot_cropped\n",
    ")"
   ]
  },
  {
   "cell_type": "code",
   "execution_count": null,
   "metadata": {
    "collapsed": true
   },
   "outputs": [],
   "source": [
    "hands17.draw.draw_hist_random(\n",
    "    # hands17.training_images\n",
    "    hands17.training_cropped\n",
    ")"
   ]
  }
 ],
 "metadata": {
  "kernelspec": {
   "display_name": "Python 2",
   "language": "python",
   "name": "python2"
  },
  "language_info": {
   "codemirror_mode": {
    "name": "ipython",
    "version": 2
   },
   "file_extension": ".py",
   "mimetype": "text/x-python",
   "name": "python",
   "nbconvert_exporter": "python",
   "pygments_lexer": "ipython2",
   "version": "2.7.14"
  },
  "latex_envs": {
   "LaTeX_envs_menu_present": true,
   "autocomplete": true,
   "bibliofile": "biblio.bib",
   "cite_by": "apalike",
   "current_citInitial": 1,
   "eqLabelWithNumbers": true,
   "eqNumInitial": 1,
   "hotkeys": {
    "equation": "Ctrl-E",
    "itemize": "Ctrl-I"
   },
   "labels_anchors": false,
   "latex_user_defs": false,
   "report_style_numbering": false,
   "user_envs_cfg": false
  }
 },
 "nbformat": 4,
 "nbformat_minor": 2
}
